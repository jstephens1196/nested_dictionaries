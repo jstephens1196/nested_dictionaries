{
 "cells": [
  {
   "cell_type": "code",
   "execution_count": 1,
   "metadata": {},
   "outputs": [],
   "source": [
    "import pandas as pd"
   ]
  },
  {
   "cell_type": "markdown",
   "metadata": {},
   "source": [
    "Our data set is composed of two columns: the name  of a Brazilian Jiu Jitsu competitor and a list of dictionaries where each dictionary represents a match."
   ]
  },
  {
   "cell_type": "code",
   "execution_count": 44,
   "metadata": {},
   "outputs": [
    {
     "data": {
      "text/html": [
       "<div>\n",
       "<style scoped>\n",
       "    .dataframe tbody tr th:only-of-type {\n",
       "        vertical-align: middle;\n",
       "    }\n",
       "\n",
       "    .dataframe tbody tr th {\n",
       "        vertical-align: top;\n",
       "    }\n",
       "\n",
       "    .dataframe thead th {\n",
       "        text-align: right;\n",
       "    }\n",
       "</style>\n",
       "<table border=\"1\" class=\"dataframe\">\n",
       "  <thead>\n",
       "    <tr style=\"text-align: right;\">\n",
       "      <th></th>\n",
       "      <th>matches</th>\n",
       "      <th>name</th>\n",
       "    </tr>\n",
       "  </thead>\n",
       "  <tbody>\n",
       "    <tr>\n",
       "      <th>0</th>\n",
       "      <td>[{'method': 'Inside heel hook', 'outcome': 'L'...</td>\n",
       "      <td>Aaron Johnson</td>\n",
       "    </tr>\n",
       "    <tr>\n",
       "      <th>1</th>\n",
       "      <td>[{'method': 'Referee Decision', 'outcome': 'L'...</td>\n",
       "      <td>Abdurakhman Bilarov</td>\n",
       "    </tr>\n",
       "    <tr>\n",
       "      <th>2</th>\n",
       "      <td>[{'method': 'Adv', 'outcome': 'L', 'weight': '...</td>\n",
       "      <td>Abraham Marte</td>\n",
       "    </tr>\n",
       "    <tr>\n",
       "      <th>3</th>\n",
       "      <td>[{'method': 'Referee Decision', 'outcome': 'L'...</td>\n",
       "      <td>Adam Benayoun</td>\n",
       "    </tr>\n",
       "    <tr>\n",
       "      <th>4</th>\n",
       "      <td>[{'method': 'RNC', 'outcome': 'L', 'weight': '...</td>\n",
       "      <td>Adam Ferrara</td>\n",
       "    </tr>\n",
       "  </tbody>\n",
       "</table>\n",
       "</div>"
      ],
      "text/plain": [
       "                                             matches                 name\n",
       "0  [{'method': 'Inside heel hook', 'outcome': 'L'...        Aaron Johnson\n",
       "1  [{'method': 'Referee Decision', 'outcome': 'L'...  Abdurakhman Bilarov\n",
       "2  [{'method': 'Adv', 'outcome': 'L', 'weight': '...        Abraham Marte\n",
       "3  [{'method': 'Referee Decision', 'outcome': 'L'...        Adam Benayoun\n",
       "4  [{'method': 'RNC', 'outcome': 'L', 'weight': '...         Adam Ferrara"
      ]
     },
     "execution_count": 44,
     "metadata": {},
     "output_type": "execute_result"
    }
   ],
   "source": [
    "df = pd.read_json('bjjheroes_matches.json')\n",
    "df.head()"
   ]
  },
  {
   "cell_type": "markdown",
   "metadata": {},
   "source": [
    "We can access the list of matches for the first fighter, and while we're at it we can turn that into a data frame too."
   ]
  },
  {
   "cell_type": "code",
   "execution_count": 62,
   "metadata": {},
   "outputs": [
    {
     "name": "stdout",
     "output_type": "stream",
     "text": [
      "[{'method': 'Inside heel hook', 'outcome': 'L', 'weight': 'ABS', 'year': '2015'}, {'method': 'RNC', 'outcome': 'L', 'weight': '94KG', 'year': '2015'}, {'method': 'Heel hook', 'outcome': 'L', 'weight': 'ABS', 'year': '2015'}, {'method': 'Points', 'outcome': 'L', 'weight': '94KG', 'year': '2016'}, {'method': 'N/A', 'outcome': 'L', 'weight': '94KG', 'year': '2016'}, {'method': 'Cross choke', 'outcome': 'L', 'weight': 'HWABS', 'year': '2016'}, {'method': 'Choke', 'outcome': 'L', 'weight': 'ABS', 'year': '2016'}, {'method': 'Triangle', 'outcome': 'L', 'weight': '100KG', 'year': '2016'}, {'method': 'Triangle armbar', 'outcome': 'L', 'weight': 'ABS', 'year': '2016'}, {'method': 'Choke from back', 'outcome': 'L', 'weight': 'ABS', 'year': '2016'}]\n"
     ]
    }
   ],
   "source": [
    "print(df.loc[0, 'matches'][:10])\n",
    "df0 = pd.DataFrame(df.loc[0, 'matches'])\n"
   ]
  },
  {
   "cell_type": "code",
   "execution_count": 27,
   "metadata": {},
   "outputs": [],
   "source": [
    "fi"
   ]
  }
 ],
 "metadata": {
  "kernelspec": {
   "display_name": "Python 3",
   "language": "python",
   "name": "python3"
  },
  "language_info": {
   "codemirror_mode": {
    "name": "ipython",
    "version": 3
   },
   "file_extension": ".py",
   "mimetype": "text/x-python",
   "name": "python",
   "nbconvert_exporter": "python",
   "pygments_lexer": "ipython3",
   "version": "3.8.2"
  }
 },
 "nbformat": 4,
 "nbformat_minor": 4
}
